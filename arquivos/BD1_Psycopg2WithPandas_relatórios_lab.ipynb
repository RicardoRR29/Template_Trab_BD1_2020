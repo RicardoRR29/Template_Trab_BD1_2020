{
  "nbformat": 4,
  "nbformat_minor": 2,
  "metadata": {
    "colab": {
      "name": "BD1_Psycopg2WithPandas_relatórios_lab.ipynb",
      "provenance": [],
      "collapsed_sections": []
    },
    "language_info": {
      "codemirror_mode": {
        "name": "ipython",
        "version": 3
      },
      "file_extension": ".py",
      "mimetype": "text/x-python",
      "name": "python",
      "nbconvert_exporter": "python",
      "pygments_lexer": "ipython3",
      "version": "3.6.5"
    },
    "kernelspec": {
      "display_name": "Python 3",
      "language": "python",
      "name": "python3"
    }
  },
  "cells": [
    {
      "cell_type": "markdown",
      "source": [
        "# Conexão com postgres e Relatorios do Sistema"
      ],
      "metadata": {
        "id": "rltFfCLwpgza",
        "colab_type": "text"
      }
    },
    {
      "cell_type": "markdown",
      "source": [
        "## Instalando biblioteca de acesso com postgres e manipulação de dados e gráficos"
      ],
      "metadata": {
        "id": "wxEVO0nFpgzd",
        "colab_type": "text"
      }
    },
    {
      "cell_type": "code",
      "execution_count": null,
      "source": [
        "#!pip install --user psycopg2-binary\r\n",
        "#!pip install --user seaborn\r\n",
        "#!pip install --user pandas"
      ],
      "outputs": [],
      "metadata": {
        "scrolled": true,
        "id": "aAhAuItwpgzg",
        "colab_type": "code",
        "colab": {}
      }
    },
    {
      "cell_type": "markdown",
      "source": [
        "### Importando bibliotecas"
      ],
      "metadata": {
        "id": "sopl99YFpgz1",
        "colab_type": "text"
      }
    },
    {
      "cell_type": "markdown",
      "source": [],
      "metadata": {}
    },
    {
      "cell_type": "code",
      "execution_count": null,
      "source": [],
      "outputs": [],
      "metadata": {}
    },
    {
      "cell_type": "code",
      "execution_count": 2,
      "source": [
        "import seaborn as sns\r\n",
        "import pandas as pd\r\n",
        "import psycopg2"
      ],
      "outputs": [
        {
          "output_type": "stream",
          "name": "stderr",
          "text": [
            "/usr/local/lib/python3.6/dist-packages/psycopg2/__init__.py:144: UserWarning: The psycopg2 wheel package will be renamed from release 2.8; in order to keep installing from binary please use \"pip install psycopg2-binary\" instead. For details see: <http://initd.org/psycopg/docs/install.html#binary-install-from-pypi>.\n",
            "  \"\"\")\n"
          ]
        }
      ],
      "metadata": {
        "id": "bLf5p8G2pgz3",
        "colab_type": "code",
        "outputId": "60b27ddb-b731-4b7d-cfdc-9095abb2655e",
        "colab": {
          "base_uri": "https://localhost:8080/",
          "height": 74
        }
      }
    },
    {
      "cell_type": "markdown",
      "source": [
        "### Usando psycopg2 para configurar conexão"
      ],
      "metadata": {
        "id": "n7XG0SI8pgz_",
        "colab_type": "text"
      }
    },
    {
      "cell_type": "code",
      "execution_count": null,
      "source": [
        "conn = psycopg2.connect(host=\"motty.db.elephantsql.com\",database=\"iifjfcmu\", user=\"iifjfcmu\", password=\"O2izvJBGgLsRrXojZHvYgWzk6c5k054m\")"
      ],
      "outputs": [],
      "metadata": {
        "id": "22N-L3e5pg0B",
        "colab_type": "code",
        "colab": {}
      }
    },
    {
      "cell_type": "markdown",
      "source": [
        "## Obtendo dados do database com Pandas"
      ],
      "metadata": {
        "id": "lB7PUANjpg0J",
        "colab_type": "text"
      }
    },
    {
      "cell_type": "markdown",
      "source": [
        "# Relatório 1"
      ],
      "metadata": {
        "id": "6yCvJMEjpg0L",
        "colab_type": "text"
      }
    },
    {
      "cell_type": "markdown",
      "source": [
        "### Objetivo: Número total de produtos vendidos por um supermercado\r\n"
      ],
      "metadata": {
        "id": "I9PP2YVppg0M",
        "colab_type": "text"
      }
    },
    {
      "cell_type": "markdown",
      "source": [
        "Código para obtenção do resultado:"
      ],
      "metadata": {
        "id": "BE7SuNo8pg0P",
        "colab_type": "text"
      }
    },
    {
      "cell_type": "code",
      "execution_count": null,
      "source": [
        "test = pd.read_sql_query(\"\"\"\r\n",
        "                            select nome, count(mercado_compra_fk) as qnt_compras from supermercado as sup \r\n",
        "                            inner join produto_compra as prod \r\n",
        "                            on (sup.codigo = prod.mercado_compra_fk)\r\n",
        "                            group by prod.mercado_compra_fk, nome\r\n",
        "                            \"\"\",conn)"
      ],
      "outputs": [],
      "metadata": {
        "id": "3AzRbVqRpg0Q",
        "colab_type": "code",
        "colab": {}
      }
    },
    {
      "cell_type": "code",
      "execution_count": 5,
      "source": [
        "test"
      ],
      "outputs": [
        {
          "output_type": "execute_result",
          "data": {
            "text/plain": [
              "       nome  qnt_compras\n",
              "0  ExtraBom           24\n",
              "1     Perim           17\n",
              "2    Carone           19"
            ],
            "text/html": [
              "<div>\n",
              "<style scoped>\n",
              "    .dataframe tbody tr th:only-of-type {\n",
              "        vertical-align: middle;\n",
              "    }\n",
              "\n",
              "    .dataframe tbody tr th {\n",
              "        vertical-align: top;\n",
              "    }\n",
              "\n",
              "    .dataframe thead th {\n",
              "        text-align: right;\n",
              "    }\n",
              "</style>\n",
              "<table border=\"1\" class=\"dataframe\">\n",
              "  <thead>\n",
              "    <tr style=\"text-align: right;\">\n",
              "      <th></th>\n",
              "      <th>nome</th>\n",
              "      <th>qnt_compras</th>\n",
              "    </tr>\n",
              "  </thead>\n",
              "  <tbody>\n",
              "    <tr>\n",
              "      <th>0</th>\n",
              "      <td>ExtraBom</td>\n",
              "      <td>24</td>\n",
              "    </tr>\n",
              "    <tr>\n",
              "      <th>1</th>\n",
              "      <td>Perim</td>\n",
              "      <td>17</td>\n",
              "    </tr>\n",
              "    <tr>\n",
              "      <th>2</th>\n",
              "      <td>Carone</td>\n",
              "      <td>19</td>\n",
              "    </tr>\n",
              "  </tbody>\n",
              "</table>\n",
              "</div>"
            ]
          },
          "metadata": {
            "tags": []
          },
          "execution_count": 5
        }
      ],
      "metadata": {
        "id": "cUxEiuiqpg0Y",
        "colab_type": "code",
        "outputId": "a07fa7d2-9875-428d-d03e-209ddead3378",
        "colab": {
          "base_uri": "https://localhost:8080/",
          "height": 138
        }
      }
    },
    {
      "cell_type": "code",
      "execution_count": 6,
      "source": [
        "import matplotlib.pyplot as plt; plt.rcdefaults()\r\n",
        "import numpy as np\r\n",
        "import matplotlib.pyplot as plt\r\n",
        "\r\n",
        "df = pd.DataFrame(test)\r\n",
        "cm = sns.light_palette(\"green\", as_cmap=True)\r\n",
        "df.style.background_gradient(cmap=cm)\r\n",
        " \r\n",
        "clientes = tuple(df.nome)\r\n",
        "y_pos = np.arange(len(clientes))\r\n",
        "performance = list(df.qnt_compras)\r\n",
        " \r\n",
        "plt.bar(y_pos, performance, align='center', alpha=0.5)\r\n",
        "plt.xticks(y_pos, clientes)\r\n",
        "plt.ylabel('Quantidade de Compras')\r\n",
        "plt.title('Supermercado')\r\n",
        " \r\n",
        "plt.show()"
      ],
      "outputs": [
        {
          "output_type": "display_data",
          "data": {
            "text/plain": [
              "<Figure size 640x480 with 1 Axes>"
            ],
            "image/png": "[encoded data removed]"
          },
          "metadata": {
            "tags": []
          }
        }
      ],
      "metadata": {
        "id": "ptxmn-0jFOBP",
        "colab_type": "code",
        "outputId": "8d6d62d3-f60a-41de-8a6e-4d48d890a399",
        "colab": {
          "base_uri": "https://localhost:8080/",
          "height": 452
        }
      }
    },
    {
      "cell_type": "markdown",
      "source": [
        "# Relatorio2"
      ],
      "metadata": {
        "id": "5sg6B_Uvpg0w",
        "colab_type": "text"
      }
    },
    {
      "cell_type": "markdown",
      "source": [
        "### Objetivo: Valor médio gastos em compras feita por um usuário"
      ],
      "metadata": {
        "id": "WLb7MLJbpg0x",
        "colab_type": "text"
      }
    },
    {
      "cell_type": "markdown",
      "source": [
        "codigo para obtenção do resultado:"
      ],
      "metadata": {
        "id": "5fiTHJGTpg0z",
        "colab_type": "text"
      }
    },
    {
      "cell_type": "code",
      "execution_count": null,
      "source": [
        "result = pd.read_sql_query(\"\"\"\r\n",
        "                            select nome, round(avg(preco::numeric),2) as media, count(id_usuario) as qtd_compras, sum(preco::numeric) as total from usuario as u \r\n",
        "                            inner join produto_compra as prod\r\n",
        "                            on (u.id_usuario=prod.usuario_id_fk)\r\n",
        "                            group by id_usuario\r\n",
        "                            \"\"\",conn)"
      ],
      "outputs": [],
      "metadata": {
        "id": "laKVdq22pg01",
        "colab_type": "code",
        "colab": {}
      }
    },
    {
      "cell_type": "code",
      "execution_count": 8,
      "source": [
        "result"
      ],
      "outputs": [
        {
          "output_type": "execute_result",
          "data": {
            "text/plain": [
              "        nome  media  qtd_compras   total\n",
              "0       João  22.27           11  244.98\n",
              "1      Maria  20.32           11  223.47\n",
              "2  Zedequias  24.14           14  337.97\n",
              "3       Caio  23.71           14  331.98\n",
              "4     Elliot  22.80           10  228.00"
            ],
            "text/html": [
              "<div>\n",
              "<style scoped>\n",
              "    .dataframe tbody tr th:only-of-type {\n",
              "        vertical-align: middle;\n",
              "    }\n",
              "\n",
              "    .dataframe tbody tr th {\n",
              "        vertical-align: top;\n",
              "    }\n",
              "\n",
              "    .dataframe thead th {\n",
              "        text-align: right;\n",
              "    }\n",
              "</style>\n",
              "<table border=\"1\" class=\"dataframe\">\n",
              "  <thead>\n",
              "    <tr style=\"text-align: right;\">\n",
              "      <th></th>\n",
              "      <th>nome</th>\n",
              "      <th>media</th>\n",
              "      <th>qtd_compras</th>\n",
              "      <th>total</th>\n",
              "    </tr>\n",
              "  </thead>\n",
              "  <tbody>\n",
              "    <tr>\n",
              "      <th>0</th>\n",
              "      <td>João</td>\n",
              "      <td>22.27</td>\n",
              "      <td>11</td>\n",
              "      <td>244.98</td>\n",
              "    </tr>\n",
              "    <tr>\n",
              "      <th>1</th>\n",
              "      <td>Maria</td>\n",
              "      <td>20.32</td>\n",
              "      <td>11</td>\n",
              "      <td>223.47</td>\n",
              "    </tr>\n",
              "    <tr>\n",
              "      <th>2</th>\n",
              "      <td>Zedequias</td>\n",
              "      <td>24.14</td>\n",
              "      <td>14</td>\n",
              "      <td>337.97</td>\n",
              "    </tr>\n",
              "    <tr>\n",
              "      <th>3</th>\n",
              "      <td>Caio</td>\n",
              "      <td>23.71</td>\n",
              "      <td>14</td>\n",
              "      <td>331.98</td>\n",
              "    </tr>\n",
              "    <tr>\n",
              "      <th>4</th>\n",
              "      <td>Elliot</td>\n",
              "      <td>22.80</td>\n",
              "      <td>10</td>\n",
              "      <td>228.00</td>\n",
              "    </tr>\n",
              "  </tbody>\n",
              "</table>\n",
              "</div>"
            ]
          },
          "metadata": {
            "tags": []
          },
          "execution_count": 8
        }
      ],
      "metadata": {
        "id": "yYaJQPC1pg06",
        "colab_type": "code",
        "outputId": "da760210-90dd-4386-d676-34f467655456",
        "colab": {
          "base_uri": "https://localhost:8080/",
          "height": 198
        }
      }
    },
    {
      "cell_type": "code",
      "execution_count": 9,
      "source": [
        "import matplotlib.pyplot as plt; plt.rcdefaults()\r\n",
        "import numpy as np\r\n",
        "import matplotlib.pyplot as plt\r\n",
        " \r\n",
        "objects = tuple(result.nome)\r\n",
        "y_pos = np.arange(len(objects))\r\n",
        "performance = list(result.media)\r\n",
        " \r\n",
        "plt.bar(y_pos, performance, align='center', alpha=0.5)\r\n",
        "plt.xticks(y_pos, objects)\r\n",
        "plt.ylabel('Valor Medio')\r\n",
        "plt.title('Usuário')\r\n",
        " \r\n",
        "plt.show()"
      ],
      "outputs": [
        {
          "output_type": "display_data",
          "data": {
            "text/plain": [
              "<Figure size 640x480 with 1 Axes>"
            ],
            "image/png": "[encoded data removed]"
          },
          "metadata": {
            "tags": []
          }
        }
      ],
      "metadata": {
        "id": "p938EURUpg1R",
        "colab_type": "code",
        "outputId": "b9fdf996-c5f2-4e9c-f31a-a3a0008a2304",
        "colab": {
          "base_uri": "https://localhost:8080/",
          "height": 452
        }
      }
    },
    {
      "cell_type": "markdown",
      "source": [
        "References"
      ],
      "metadata": {
        "id": "LBotaVIOpg1Z",
        "colab_type": "text"
      }
    },
    {
      "cell_type": "markdown",
      "source": [
        "## Relatório 3"
      ],
      "metadata": {
        "id": "i3xi4sadpg1a",
        "colab_type": "text"
      }
    },
    {
      "cell_type": "markdown",
      "source": [
        "### Objetivo: Obtenção da quantidade de usuário por estado"
      ],
      "metadata": {
        "id": "O09vvYsepg1b",
        "colab_type": "text"
      }
    },
    {
      "cell_type": "markdown",
      "source": [
        "codigo para obtenção do resultado:"
      ],
      "metadata": {
        "id": "LGN4iA0Lpg1c",
        "colab_type": "text"
      }
    },
    {
      "cell_type": "code",
      "execution_count": null,
      "source": [
        "result = pd.read_sql_query(\"\"\"\n",
        "                            select estado, count(*) as quantidade from endereco\n",
        "                            inner join usuario on (endereco.id_endereco = usuario.endereco_id_fk)\n",
        "                            group by estado\n",
        "                            \"\"\",conn)"
      ],
      "outputs": [],
      "metadata": {
        "id": "GddsTr-spg1e",
        "colab_type": "code",
        "colab": {}
      }
    },
    {
      "cell_type": "code",
      "execution_count": 11,
      "source": [
        "result"
      ],
      "outputs": [
        {
          "output_type": "execute_result",
          "data": {
            "text/plain": [
              "  estado  quantidade\n",
              "0     SP           5\n",
              "1     AM           2\n",
              "2     AP           3\n",
              "3     ES          60\n",
              "4     MT           2\n",
              "5     SC           5\n",
              "6     RS           7\n",
              "7     CE           3\n",
              "8     MG          11\n",
              "9     AC           7"
            ],
            "text/html": [
              "<div>\n",
              "<style scoped>\n",
              "    .dataframe tbody tr th:only-of-type {\n",
              "        vertical-align: middle;\n",
              "    }\n",
              "\n",
              "    .dataframe tbody tr th {\n",
              "        vertical-align: top;\n",
              "    }\n",
              "\n",
              "    .dataframe thead th {\n",
              "        text-align: right;\n",
              "    }\n",
              "</style>\n",
              "<table border=\"1\" class=\"dataframe\">\n",
              "  <thead>\n",
              "    <tr style=\"text-align: right;\">\n",
              "      <th></th>\n",
              "      <th>estado</th>\n",
              "      <th>quantidade</th>\n",
              "    </tr>\n",
              "  </thead>\n",
              "  <tbody>\n",
              "    <tr>\n",
              "      <th>0</th>\n",
              "      <td>SP</td>\n",
              "      <td>5</td>\n",
              "    </tr>\n",
              "    <tr>\n",
              "      <th>1</th>\n",
              "      <td>AM</td>\n",
              "      <td>2</td>\n",
              "    </tr>\n",
              "    <tr>\n",
              "      <th>2</th>\n",
              "      <td>AP</td>\n",
              "      <td>3</td>\n",
              "    </tr>\n",
              "    <tr>\n",
              "      <th>3</th>\n",
              "      <td>ES</td>\n",
              "      <td>60</td>\n",
              "    </tr>\n",
              "    <tr>\n",
              "      <th>4</th>\n",
              "      <td>MT</td>\n",
              "      <td>2</td>\n",
              "    </tr>\n",
              "    <tr>\n",
              "      <th>5</th>\n",
              "      <td>SC</td>\n",
              "      <td>5</td>\n",
              "    </tr>\n",
              "    <tr>\n",
              "      <th>6</th>\n",
              "      <td>RS</td>\n",
              "      <td>7</td>\n",
              "    </tr>\n",
              "    <tr>\n",
              "      <th>7</th>\n",
              "      <td>CE</td>\n",
              "      <td>3</td>\n",
              "    </tr>\n",
              "    <tr>\n",
              "      <th>8</th>\n",
              "      <td>MG</td>\n",
              "      <td>11</td>\n",
              "    </tr>\n",
              "    <tr>\n",
              "      <th>9</th>\n",
              "      <td>AC</td>\n",
              "      <td>7</td>\n",
              "    </tr>\n",
              "  </tbody>\n",
              "</table>\n",
              "</div>"
            ]
          },
          "metadata": {
            "tags": []
          },
          "execution_count": 11
        }
      ],
      "metadata": {
        "id": "BXcuLML6pg1j",
        "colab_type": "code",
        "outputId": "e07f2419-d392-4c7e-f92b-8569758052c0",
        "colab": {
          "base_uri": "https://localhost:8080/",
          "height": 348
        }
      }
    },
    {
      "cell_type": "code",
      "execution_count": 12,
      "source": [
        "import matplotlib.pyplot as plt\n",
        "plt.plot(result.estado, result.quantidade)"
      ],
      "outputs": [
        {
          "output_type": "execute_result",
          "data": {
            "text/plain": [
              "[<matplotlib.lines.Line2D at 0x7f9531d75438>]"
            ]
          },
          "metadata": {
            "tags": []
          },
          "execution_count": 12
        },
        {
          "output_type": "display_data",
          "data": {
            "text/plain": [
              "<Figure size 640x480 with 1 Axes>"
            ],
            "image/png": "[encoded data removed]"
          },
          "metadata": {
            "tags": []
          }
        }
      ],
      "metadata": {
        "id": "fJfNSXpHbrfn",
        "colab_type": "code",
        "outputId": "8c5685ed-8d7c-4407-d5de-77a322a11447",
        "colab": {
          "base_uri": "https://localhost:8080/",
          "height": 448
        }
      }
    },
    {
      "cell_type": "markdown",
      "source": [],
      "metadata": {
        "id": "IMZryrcBw_r5",
        "colab_type": "text"
      }
    },
    {
      "cell_type": "markdown",
      "source": [
        "## Relatório 4"
      ],
      "metadata": {
        "id": "lHF31E4gpg1p",
        "colab_type": "text"
      }
    },
    {
      "cell_type": "markdown",
      "source": [
        "### Objetivo: Obter a variação do preço de um mesmo produto em compras diferentes"
      ],
      "metadata": {
        "id": "0EGDJP_ypg1p",
        "colab_type": "text"
      }
    },
    {
      "cell_type": "markdown",
      "source": [
        "codigo para obtenção do resultado:"
      ],
      "metadata": {
        "id": "dqOsRp0Spg1r",
        "colab_type": "text"
      }
    },
    {
      "cell_type": "code",
      "execution_count": null,
      "source": [
        "result = pd.read_sql_query(\"\"\"\n",
        "                            select pm.nome, sum(pc.preco) as preco from produto_compra as pc\n",
        "                            inner join produto_unid as pu on (pc.cod_produto_fk = pu.codigo)\n",
        "                            inner join produto_marca as pm on (pu.codigo = pm.codigo)\n",
        "                            group by pm.nome, pc.preco;\n",
        "                            \"\"\",conn)"
      ],
      "outputs": [],
      "metadata": {
        "id": "aS0WpLgIpg1s",
        "colab_type": "code",
        "colab": {}
      }
    },
    {
      "cell_type": "code",
      "execution_count": 14,
      "source": [
        "result"
      ],
      "outputs": [
        {
          "output_type": "execute_result",
          "data": {
            "text/plain": [
              "                      nome   preco\n",
              "0                    Arroz   $1.00\n",
              "1                    Arroz   $2.00\n",
              "2                    Arroz   $6.99\n",
              "3                    Arroz  $17.99\n",
              "4                    Arroz  $18.00\n",
              "5                    Arroz  $23.00\n",
              "6                    Arroz  $54.00\n",
              "7                    Arroz  $36.00\n",
              "8                    Arroz  $39.00\n",
              "9                    Arroz  $42.00\n",
              "10                   Arroz  $45.00\n",
              "11                  Banana  $12.00\n",
              "12                  Banana  $13.00\n",
              "13                  Banana  $20.00\n",
              "14                  Banana  $20.99\n",
              "15                  Banana  $38.00\n",
              "16                Biscoito   $5.99\n",
              "17                Biscoito  $31.00\n",
              "18                Biscoito  $66.00\n",
              "19                    Café   $7.99\n",
              "20                    Café   $8.49\n",
              "21                    Café  $18.00\n",
              "22                    Café  $24.00\n",
              "23                    Café  $34.00\n",
              "24               Capuccino  $27.00\n",
              "25               Capuccino  $28.00\n",
              "26           Condicionador   $7.00\n",
              "27           Condicionador  $37.00\n",
              "28             Desodorante   $6.00\n",
              "29             Desodorante  $31.00\n",
              "30  Escova de dentes suave  $20.00\n",
              "31                  Feijão   $3.99\n",
              "32                  Feijão  $14.00\n",
              "33                  Feijão  $21.00\n",
              "34                  Feijão  $33.00\n",
              "35                  Feijão  $48.00\n",
              "36                    Maçã  $24.00\n",
              "37                Macarrão   $1.99\n",
              "38                Macarrão  $12.00\n",
              "39                Macarrão  $40.00\n",
              "40                Macarrão  $47.00\n",
              "41                Macarrão  $49.00\n",
              "42                Manteiga  $31.00\n",
              "43                Manteiga  $32.00\n",
              "44                     Pão   $3.00\n",
              "45       Refrigerante Zero   $6.00\n",
              "46       Refrigerante Zero   $8.00\n",
              "47       Refrigerante Zero  $33.00\n",
              "48       Refrigerante Zero  $45.00\n",
              "49                Salsicha  $15.99\n",
              "50                Salsicha  $33.00\n",
              "51                 Shampoo  $43.00\n",
              "52                 Sorvete   $7.00\n",
              "53                 Sorvete  $14.99\n",
              "54                     Uva  $34.00\n",
              "55                   Velas  $11.00\n",
              "56                   Velas  $15.00"
            ],
            "text/html": [
              "<div>\n",
              "<style scoped>\n",
              "    .dataframe tbody tr th:only-of-type {\n",
              "        vertical-align: middle;\n",
              "    }\n",
              "\n",
              "    .dataframe tbody tr th {\n",
              "        vertical-align: top;\n",
              "    }\n",
              "\n",
              "    .dataframe thead th {\n",
              "        text-align: right;\n",
              "    }\n",
              "</style>\n",
              "<table border=\"1\" class=\"dataframe\">\n",
              "  <thead>\n",
              "    <tr style=\"text-align: right;\">\n",
              "      <th></th>\n",
              "      <th>nome</th>\n",
              "      <th>preco</th>\n",
              "    </tr>\n",
              "  </thead>\n",
              "  <tbody>\n",
              "    <tr>\n",
              "      <th>0</th>\n",
              "      <td>Arroz</td>\n",
              "      <td>$1.00</td>\n",
              "    </tr>\n",
              "    <tr>\n",
              "      <th>1</th>\n",
              "      <td>Arroz</td>\n",
              "      <td>$2.00</td>\n",
              "    </tr>\n",
              "    <tr>\n",
              "      <th>2</th>\n",
              "      <td>Arroz</td>\n",
              "      <td>$6.99</td>\n",
              "    </tr>\n",
              "    <tr>\n",
              "      <th>3</th>\n",
              "      <td>Arroz</td>\n",
              "      <td>$17.99</td>\n",
              "    </tr>\n",
              "    <tr>\n",
              "      <th>4</th>\n",
              "      <td>Arroz</td>\n",
              "      <td>$18.00</td>\n",
              "    </tr>\n",
              "    <tr>\n",
              "      <th>5</th>\n",
              "      <td>Arroz</td>\n",
              "      <td>$23.00</td>\n",
              "    </tr>\n",
              "    <tr>\n",
              "      <th>6</th>\n",
              "      <td>Arroz</td>\n",
              "      <td>$54.00</td>\n",
              "    </tr>\n",
              "    <tr>\n",
              "      <th>7</th>\n",
              "      <td>Arroz</td>\n",
              "      <td>$36.00</td>\n",
              "    </tr>\n",
              "    <tr>\n",
              "      <th>8</th>\n",
              "      <td>Arroz</td>\n",
              "      <td>$39.00</td>\n",
              "    </tr>\n",
              "    <tr>\n",
              "      <th>9</th>\n",
              "      <td>Arroz</td>\n",
              "      <td>$42.00</td>\n",
              "    </tr>\n",
              "    <tr>\n",
              "      <th>10</th>\n",
              "      <td>Arroz</td>\n",
              "      <td>$45.00</td>\n",
              "    </tr>\n",
              "    <tr>\n",
              "      <th>11</th>\n",
              "      <td>Banana</td>\n",
              "      <td>$12.00</td>\n",
              "    </tr>\n",
              "    <tr>\n",
              "      <th>12</th>\n",
              "      <td>Banana</td>\n",
              "      <td>$13.00</td>\n",
              "    </tr>\n",
              "    <tr>\n",
              "      <th>13</th>\n",
              "      <td>Banana</td>\n",
              "      <td>$20.00</td>\n",
              "    </tr>\n",
              "    <tr>\n",
              "      <th>14</th>\n",
              "      <td>Banana</td>\n",
              "      <td>$20.99</td>\n",
              "    </tr>\n",
              "    <tr>\n",
              "      <th>15</th>\n",
              "      <td>Banana</td>\n",
              "      <td>$38.00</td>\n",
              "    </tr>\n",
              "    <tr>\n",
              "      <th>16</th>\n",
              "      <td>Biscoito</td>\n",
              "      <td>$5.99</td>\n",
              "    </tr>\n",
              "    <tr>\n",
              "      <th>17</th>\n",
              "      <td>Biscoito</td>\n",
              "      <td>$31.00</td>\n",
              "    </tr>\n",
              "    <tr>\n",
              "      <th>18</th>\n",
              "      <td>Biscoito</td>\n",
              "      <td>$66.00</td>\n",
              "    </tr>\n",
              "    <tr>\n",
              "      <th>19</th>\n",
              "      <td>Café</td>\n",
              "      <td>$7.99</td>\n",
              "    </tr>\n",
              "    <tr>\n",
              "      <th>20</th>\n",
              "      <td>Café</td>\n",
              "      <td>$8.49</td>\n",
              "    </tr>\n",
              "    <tr>\n",
              "      <th>21</th>\n",
              "      <td>Café</td>\n",
              "      <td>$18.00</td>\n",
              "    </tr>\n",
              "    <tr>\n",
              "      <th>22</th>\n",
              "      <td>Café</td>\n",
              "      <td>$24.00</td>\n",
              "    </tr>\n",
              "    <tr>\n",
              "      <th>23</th>\n",
              "      <td>Café</td>\n",
              "      <td>$34.00</td>\n",
              "    </tr>\n",
              "    <tr>\n",
              "      <th>24</th>\n",
              "      <td>Capuccino</td>\n",
              "      <td>$27.00</td>\n",
              "    </tr>\n",
              "    <tr>\n",
              "      <th>25</th>\n",
              "      <td>Capuccino</td>\n",
              "      <td>$28.00</td>\n",
              "    </tr>\n",
              "    <tr>\n",
              "      <th>26</th>\n",
              "      <td>Condicionador</td>\n",
              "      <td>$7.00</td>\n",
              "    </tr>\n",
              "    <tr>\n",
              "      <th>27</th>\n",
              "      <td>Condicionador</td>\n",
              "      <td>$37.00</td>\n",
              "    </tr>\n",
              "    <tr>\n",
              "      <th>28</th>\n",
              "      <td>Desodorante</td>\n",
              "      <td>$6.00</td>\n",
              "    </tr>\n",
              "    <tr>\n",
              "      <th>29</th>\n",
              "      <td>Desodorante</td>\n",
              "      <td>$31.00</td>\n",
              "    </tr>\n",
              "    <tr>\n",
              "      <th>30</th>\n",
              "      <td>Escova de dentes suave</td>\n",
              "      <td>$20.00</td>\n",
              "    </tr>\n",
              "    <tr>\n",
              "      <th>31</th>\n",
              "      <td>Feijão</td>\n",
              "      <td>$3.99</td>\n",
              "    </tr>\n",
              "    <tr>\n",
              "      <th>32</th>\n",
              "      <td>Feijão</td>\n",
              "      <td>$14.00</td>\n",
              "    </tr>\n",
              "    <tr>\n",
              "      <th>33</th>\n",
              "      <td>Feijão</td>\n",
              "      <td>$21.00</td>\n",
              "    </tr>\n",
              "    <tr>\n",
              "      <th>34</th>\n",
              "      <td>Feijão</td>\n",
              "      <td>$33.00</td>\n",
              "    </tr>\n",
              "    <tr>\n",
              "      <th>35</th>\n",
              "      <td>Feijão</td>\n",
              "      <td>$48.00</td>\n",
              "    </tr>\n",
              "    <tr>\n",
              "      <th>36</th>\n",
              "      <td>Maçã</td>\n",
              "      <td>$24.00</td>\n",
              "    </tr>\n",
              "    <tr>\n",
              "      <th>37</th>\n",
              "      <td>Macarrão</td>\n",
              "      <td>$1.99</td>\n",
              "    </tr>\n",
              "    <tr>\n",
              "      <th>38</th>\n",
              "      <td>Macarrão</td>\n",
              "      <td>$12.00</td>\n",
              "    </tr>\n",
              "    <tr>\n",
              "      <th>39</th>\n",
              "      <td>Macarrão</td>\n",
              "      <td>$40.00</td>\n",
              "    </tr>\n",
              "    <tr>\n",
              "      <th>40</th>\n",
              "      <td>Macarrão</td>\n",
              "      <td>$47.00</td>\n",
              "    </tr>\n",
              "    <tr>\n",
              "      <th>41</th>\n",
              "      <td>Macarrão</td>\n",
              "      <td>$49.00</td>\n",
              "    </tr>\n",
              "    <tr>\n",
              "      <th>42</th>\n",
              "      <td>Manteiga</td>\n",
              "      <td>$31.00</td>\n",
              "    </tr>\n",
              "    <tr>\n",
              "      <th>43</th>\n",
              "      <td>Manteiga</td>\n",
              "      <td>$32.00</td>\n",
              "    </tr>\n",
              "    <tr>\n",
              "      <th>44</th>\n",
              "      <td>Pão</td>\n",
              "      <td>$3.00</td>\n",
              "    </tr>\n",
              "    <tr>\n",
              "      <th>45</th>\n",
              "      <td>Refrigerante Zero</td>\n",
              "      <td>$6.00</td>\n",
              "    </tr>\n",
              "    <tr>\n",
              "      <th>46</th>\n",
              "      <td>Refrigerante Zero</td>\n",
              "      <td>$8.00</td>\n",
              "    </tr>\n",
              "    <tr>\n",
              "      <th>47</th>\n",
              "      <td>Refrigerante Zero</td>\n",
              "      <td>$33.00</td>\n",
              "    </tr>\n",
              "    <tr>\n",
              "      <th>48</th>\n",
              "      <td>Refrigerante Zero</td>\n",
              "      <td>$45.00</td>\n",
              "    </tr>\n",
              "    <tr>\n",
              "      <th>49</th>\n",
              "      <td>Salsicha</td>\n",
              "      <td>$15.99</td>\n",
              "    </tr>\n",
              "    <tr>\n",
              "      <th>50</th>\n",
              "      <td>Salsicha</td>\n",
              "      <td>$33.00</td>\n",
              "    </tr>\n",
              "    <tr>\n",
              "      <th>51</th>\n",
              "      <td>Shampoo</td>\n",
              "      <td>$43.00</td>\n",
              "    </tr>\n",
              "    <tr>\n",
              "      <th>52</th>\n",
              "      <td>Sorvete</td>\n",
              "      <td>$7.00</td>\n",
              "    </tr>\n",
              "    <tr>\n",
              "      <th>53</th>\n",
              "      <td>Sorvete</td>\n",
              "      <td>$14.99</td>\n",
              "    </tr>\n",
              "    <tr>\n",
              "      <th>54</th>\n",
              "      <td>Uva</td>\n",
              "      <td>$34.00</td>\n",
              "    </tr>\n",
              "    <tr>\n",
              "      <th>55</th>\n",
              "      <td>Velas</td>\n",
              "      <td>$11.00</td>\n",
              "    </tr>\n",
              "    <tr>\n",
              "      <th>56</th>\n",
              "      <td>Velas</td>\n",
              "      <td>$15.00</td>\n",
              "    </tr>\n",
              "  </tbody>\n",
              "</table>\n",
              "</div>"
            ]
          },
          "metadata": {
            "tags": []
          },
          "execution_count": 14
        }
      ],
      "metadata": {
        "id": "oGgFjjZmpg1x",
        "colab_type": "code",
        "outputId": "b3377caa-0ac1-4b15-b9d6-c0058b59383d",
        "colab": {
          "base_uri": "https://localhost:8080/",
          "height": 1000
        }
      }
    },
    {
      "cell_type": "code",
      "execution_count": 15,
      "source": [
        "df = pd.DataFrame(result)\n",
        "\n",
        "n = {}\n",
        "for i, j in df.itertuples(index=False):\n",
        "  if i not in n:\n",
        "    n[i] = [float(j[1:])]\n",
        "  else:\n",
        "    n[i].append(float(j[1:]))\n",
        "\n",
        "for key in n:\n",
        "  plt.plot(n[key], label=key)\n",
        "  \n",
        "#plt.rc('ytick', labelsize=6) \n",
        "#plt.rc('xtick', labelsize=10) \n",
        "plt.legend(bbox_to_anchor=(1.05, 1), loc=2, borderaxespad=0.)"
      ],
      "outputs": [
        {
          "output_type": "execute_result",
          "data": {
            "text/plain": [
              "<matplotlib.legend.Legend at 0x7f9531ca1438>"
            ]
          },
          "metadata": {
            "tags": []
          },
          "execution_count": 15
        },
        {
          "output_type": "display_data",
          "data": {
            "text/plain": [
              "<Figure size 640x480 with 1 Axes>"
            ],
            "image/png": "[encoded data removed]"
          },
          "metadata": {
            "tags": []
          }
        }
      ],
      "metadata": {
        "id": "7GZa2qobpg12",
        "colab_type": "code",
        "outputId": "048d623b-e3c8-41fa-e57b-2de13941af04",
        "colab": {
          "base_uri": "https://localhost:8080/",
          "height": 457
        }
      }
    },
    {
      "cell_type": "markdown",
      "source": [
        "## **Relatório5**"
      ],
      "metadata": {
        "id": "TUkJe_kg-JMu",
        "colab_type": "text"
      }
    },
    {
      "cell_type": "markdown",
      "source": [
        "### Objetivo: Marcas mais compradas pelos usuários (exceto hortifruti)"
      ],
      "metadata": {
        "id": "12BW7UBq-dic",
        "colab_type": "text"
      }
    },
    {
      "cell_type": "code",
      "execution_count": null,
      "source": [
        "result = pd.read_sql_query(\"\"\"\n",
        "                            select nome, marca, count(cod_produto_fk) as qtd_compra from produto_marca as prod inner join produto_estoque as est\n",
        "                            on (prod.codigo=est.cod_produto_fk)\n",
        "                            where marca is not null\n",
        "                            group by marca, nome\n",
        "                            order by qtd_compra desc\n",
        "                            \"\"\",conn)"
      ],
      "outputs": [],
      "metadata": {
        "id": "vmWyDGaZ-pv7",
        "colab_type": "code",
        "colab": {}
      }
    },
    {
      "cell_type": "code",
      "execution_count": 17,
      "source": [
        "result\n"
      ],
      "outputs": [
        {
          "output_type": "execute_result",
          "data": {
            "text/plain": [
              "                      nome          marca  qtd_compra\n",
              "0        Refrigerante Zero      Coca-cola           6\n",
              "1                 Macarrão         Renata           5\n",
              "2                Capuccino  Três Corações           5\n",
              "3                    Velas   São Domingos           4\n",
              "4                    Arroz     Vietnamita           4\n",
              "5                  Sorvete          Kibom           3\n",
              "6                    Arroz           Sepé           3\n",
              "7                      Pão     Padaria xD           3\n",
              "8                 Salsicha       Perdigão           3\n",
              "9                   Feijão      Combrasil           3\n",
              "10                    Café  Três Corações           3\n",
              "11                Biscoito        Piraquê           3\n",
              "12             Desodorante         Rexona           2\n",
              "13           Condicionador        Griffus           2\n",
              "14                 Shampoo        Griffus           1\n",
              "15  Escova de dentes suave         Oral B           1\n",
              "16                Manteiga          Qualy           1"
            ],
            "text/html": [
              "<div>\n",
              "<style scoped>\n",
              "    .dataframe tbody tr th:only-of-type {\n",
              "        vertical-align: middle;\n",
              "    }\n",
              "\n",
              "    .dataframe tbody tr th {\n",
              "        vertical-align: top;\n",
              "    }\n",
              "\n",
              "    .dataframe thead th {\n",
              "        text-align: right;\n",
              "    }\n",
              "</style>\n",
              "<table border=\"1\" class=\"dataframe\">\n",
              "  <thead>\n",
              "    <tr style=\"text-align: right;\">\n",
              "      <th></th>\n",
              "      <th>nome</th>\n",
              "      <th>marca</th>\n",
              "      <th>qtd_compra</th>\n",
              "    </tr>\n",
              "  </thead>\n",
              "  <tbody>\n",
              "    <tr>\n",
              "      <th>0</th>\n",
              "      <td>Refrigerante Zero</td>\n",
              "      <td>Coca-cola</td>\n",
              "      <td>6</td>\n",
              "    </tr>\n",
              "    <tr>\n",
              "      <th>1</th>\n",
              "      <td>Macarrão</td>\n",
              "      <td>Renata</td>\n",
              "      <td>5</td>\n",
              "    </tr>\n",
              "    <tr>\n",
              "      <th>2</th>\n",
              "      <td>Capuccino</td>\n",
              "      <td>Três Corações</td>\n",
              "      <td>5</td>\n",
              "    </tr>\n",
              "    <tr>\n",
              "      <th>3</th>\n",
              "      <td>Velas</td>\n",
              "      <td>São Domingos</td>\n",
              "      <td>4</td>\n",
              "    </tr>\n",
              "    <tr>\n",
              "      <th>4</th>\n",
              "      <td>Arroz</td>\n",
              "      <td>Vietnamita</td>\n",
              "      <td>4</td>\n",
              "    </tr>\n",
              "    <tr>\n",
              "      <th>5</th>\n",
              "      <td>Sorvete</td>\n",
              "      <td>Kibom</td>\n",
              "      <td>3</td>\n",
              "    </tr>\n",
              "    <tr>\n",
              "      <th>6</th>\n",
              "      <td>Arroz</td>\n",
              "      <td>Sepé</td>\n",
              "      <td>3</td>\n",
              "    </tr>\n",
              "    <tr>\n",
              "      <th>7</th>\n",
              "      <td>Pão</td>\n",
              "      <td>Padaria xD</td>\n",
              "      <td>3</td>\n",
              "    </tr>\n",
              "    <tr>\n",
              "      <th>8</th>\n",
              "      <td>Salsicha</td>\n",
              "      <td>Perdigão</td>\n",
              "      <td>3</td>\n",
              "    </tr>\n",
              "    <tr>\n",
              "      <th>9</th>\n",
              "      <td>Feijão</td>\n",
              "      <td>Combrasil</td>\n",
              "      <td>3</td>\n",
              "    </tr>\n",
              "    <tr>\n",
              "      <th>10</th>\n",
              "      <td>Café</td>\n",
              "      <td>Três Corações</td>\n",
              "      <td>3</td>\n",
              "    </tr>\n",
              "    <tr>\n",
              "      <th>11</th>\n",
              "      <td>Biscoito</td>\n",
              "      <td>Piraquê</td>\n",
              "      <td>3</td>\n",
              "    </tr>\n",
              "    <tr>\n",
              "      <th>12</th>\n",
              "      <td>Desodorante</td>\n",
              "      <td>Rexona</td>\n",
              "      <td>2</td>\n",
              "    </tr>\n",
              "    <tr>\n",
              "      <th>13</th>\n",
              "      <td>Condicionador</td>\n",
              "      <td>Griffus</td>\n",
              "      <td>2</td>\n",
              "    </tr>\n",
              "    <tr>\n",
              "      <th>14</th>\n",
              "      <td>Shampoo</td>\n",
              "      <td>Griffus</td>\n",
              "      <td>1</td>\n",
              "    </tr>\n",
              "    <tr>\n",
              "      <th>15</th>\n",
              "      <td>Escova de dentes suave</td>\n",
              "      <td>Oral B</td>\n",
              "      <td>1</td>\n",
              "    </tr>\n",
              "    <tr>\n",
              "      <th>16</th>\n",
              "      <td>Manteiga</td>\n",
              "      <td>Qualy</td>\n",
              "      <td>1</td>\n",
              "    </tr>\n",
              "  </tbody>\n",
              "</table>\n",
              "</div>"
            ]
          },
          "metadata": {
            "tags": []
          },
          "execution_count": 17
        }
      ],
      "metadata": {
        "id": "PZzVbDwe-0Ki",
        "colab_type": "code",
        "outputId": "865c401d-916d-413b-bff2-c9a02b53b814",
        "colab": {
          "base_uri": "https://localhost:8080/",
          "height": 558
        }
      }
    },
    {
      "cell_type": "code",
      "execution_count": 18,
      "source": [
        "import matplotlib.pyplot as plt; plt.rcdefaults()\n",
        "import numpy as np\n",
        "import matplotlib.pyplot as plt\n",
        " \n",
        "objects = tuple(result.qtd_compra)\n",
        "y_pos = np.arange(len(objects))\n",
        "performance = list(result.marca)\n",
        " \n",
        "plt.barh(performance, objects)\n",
        "plt.xticks(objects)\n",
        "plt.xlabel('Quantidade')\n",
        "plt.ylabel('Marca')\n",
        " \n",
        "plt.show()"
      ],
      "outputs": [
        {
          "output_type": "display_data",
          "data": {
            "text/plain": [
              "<Figure size 640x480 with 1 Axes>"
            ],
            "image/png": "[encoded data removed]"
          },
          "metadata": {
            "tags": []
          }
        }
      ],
      "metadata": {
        "id": "67S5URM7JDFb",
        "colab_type": "code",
        "outputId": "9cbba7a1-4f2e-4019-a770-c08b6e1f2370",
        "colab": {
          "base_uri": "https://localhost:8080/",
          "height": 449
        }
      }
    }
  ]
}